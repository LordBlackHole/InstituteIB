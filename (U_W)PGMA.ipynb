{
 "cells": [
  {
   "cell_type": "code",
   "execution_count": 2,
   "metadata": {},
   "outputs": [
    {
     "data": {
      "text/plain": [
       "'(K:7.25,(L:4.0,(M:2.0,N:2.0):2.0):3.25)'"
      ]
     },
     "execution_count": 2,
     "metadata": {},
     "output_type": "execute_result"
    }
   ],
   "source": [
    "import numpy as np\n",
    "\n",
    "M = [\n",
    "    [],\n",
    "    [16],\n",
    "    [16, 8],\n",
    "    [10, 8, 4],\n",
    "]\n",
    "\n",
    "\n",
    "def tree(start, end):\n",
    "    labels = []\n",
    "    for i in range(ord(start), ord(end) + 1):\n",
    "        labels.append(chr(i))\n",
    "    return labels\n",
    "\n",
    "\n",
    "M_labels = tree(\"K\", \"N\")\n",
    "\n",
    "\n",
    "def min_u(strt, a=-1, b=-1, min_c=float(\"inf\")):\n",
    "    for i in range(len(strt)):\n",
    "        for j in range(len(strt[i])):\n",
    "            if strt[i][j] < min_c:\n",
    "                min_c = strt[i][j]\n",
    "                a, b = i, j\n",
    "    return a, b, min_c\n",
    "\n",
    "\n",
    "def join_strt(strt, a, b):\n",
    "    if b < a:\n",
    "        a, b = b, a\n",
    "    new_l = []\n",
    "    for i in range(a):\n",
    "        new_l.append((strt[a][i] + strt[b][i]) / 2)\n",
    "    strt[a] = new_l\n",
    "    for i in range(a + 1, b):\n",
    "        strt[i][a] = (strt[i][a] + strt[b][i]) / 2\n",
    "    for i in range(b + 1, len(strt)):\n",
    "        strt[i][a] = (strt[i][a] + strt[i][b]) / 2\n",
    "        del strt[i][b]\n",
    "    del strt[b]\n",
    "\n",
    "\n",
    "def join_strs(labels, a, b, m_i_n, last_min):\n",
    "    if b < a:\n",
    "        a, b = b, a\n",
    "    labels[a] = \"(\" + labels[a] + ':' + str(m_i_n / 2) + \",\" + labels[b] + ':' + str(m_i_n / 2 - last_min) + \")\"\n",
    "    del labels[b]\n",
    "\n",
    "\n",
    "def wpgma(strt, labels, last_min=0):\n",
    "    while len(labels) > 1:\n",
    "        x, y, m_i_n = min_u(strt)\n",
    "        join_strt(strt, x, y)\n",
    "        join_strs(labels, x, y, m_i_n, last_min)\n",
    "        last_min = m_i_n / 2\n",
    "    return labels[0]\n",
    "\n",
    "\n",
    "ans = wpgma(M, M_labels)\n",
    "ans\n"
   ]
  },
  {
   "cell_type": "code",
   "execution_count": 3,
   "metadata": {},
   "outputs": [
    {
     "data": {
      "text/plain": [
       "'(K:7.0,(L:4.0,(M:2.0,N:2.0):2.0):3.0)'"
      ]
     },
     "execution_count": 3,
     "metadata": {},
     "output_type": "execute_result"
    }
   ],
   "source": [
    "M_labels = tree(\"K\", \"N\")\n",
    "\n",
    "M = [\n",
    "    [ ],\n",
    "    [16],\n",
    "    [16, 8],\n",
    "    [10, 8, 4],\n",
    "    ]\n",
    "\n",
    "def tree(start, end):\n",
    "    labels = []\n",
    "    for i in range(ord(start), ord(end)+1):\n",
    "        labels.append(chr(i))\n",
    "    return labels\n",
    "\n",
    "\n",
    "def min_u(strt, x= -1, y= -1, min_cell = float(\"inf\")):\n",
    "    for i in range(len(strt)):\n",
    "        for j in range(len(strt[i])):\n",
    "            if strt[i][j] < min_cell:\n",
    "                min_cell = strt[i][j]\n",
    "                x, y = i, j\n",
    "\n",
    "    return x, y, min_cell\n",
    "\n",
    "\n",
    "def join_strt(labels, strt, a, b):\n",
    "    if b < a:\n",
    "        a, b = b, a\n",
    "    new_l = []\n",
    "\n",
    "    for i in range(a):\n",
    "        k_a, k_b = len(labels[a].split('(')),len(labels[b].split('('))\n",
    "        new_l.append((strt[a][i] * k_a + strt[b][i] * k_b) / (k_a + k_b))\n",
    "    strt[a] = new_l\n",
    "    \n",
    "    for i in range(a+1, b):\n",
    "        k_a, k_b = len(labels[a].split('(')), len(labels[b].split('('))\n",
    "        strt[i][a] = (strt[i][a] * k_a + strt[b][i] * k_b) / (k_a + k_b)\n",
    "    for i in range(b+1, len(strt)):\n",
    "        k_a, k_b = len(labels[a].split('(')),len(labels[b].split('('))\n",
    "        strt[i][a] = (strt[i][a] * k_a + strt[i][b] * k_b) / (k_a + k_b)\n",
    "        del strt[i][b]\n",
    "\n",
    "    del strt[b]\n",
    "\n",
    "def join_strs(labels, a, b, m_i_n, last_min):\n",
    "    if b < a:\n",
    "        a, b = b, a\n",
    "    labels[a] = \"(\" + labels[a]+ ':' +str(m_i_n/2) + \",\" + labels[b]+':' +str(m_i_n/2 - last_min)+ \")\"\n",
    "    del labels[b]\n",
    "\n",
    "\n",
    "def upgma(strt, labels, last_min=0):\n",
    "    while len(labels) > 1:\n",
    "        x, y, m_i_n= min_u(strt)\n",
    "        join_strt(labels, strt, x, y)\n",
    "        join_strs(labels, x, y, m_i_n, last_min)\n",
    "        last_min = m_i_n/2\n",
    "    return labels[0]\n",
    "\n",
    "\n",
    "ans = upgma(M, M_labels)\n",
    "ans\n"
   ]
  },
  {
   "cell_type": "code",
   "execution_count": null,
   "metadata": {},
   "outputs": [],
   "source": []
  }
 ],
 "metadata": {
  "kernelspec": {
   "display_name": "Python 3",
   "language": "python",
   "name": "python3"
  },
  "language_info": {
   "codemirror_mode": {
    "name": "ipython",
    "version": 3
   },
   "file_extension": ".py",
   "mimetype": "text/x-python",
   "name": "python",
   "nbconvert_exporter": "python",
   "pygments_lexer": "ipython3",
   "version": "3.8.3"
  }
 },
 "nbformat": 4,
 "nbformat_minor": 4
}
