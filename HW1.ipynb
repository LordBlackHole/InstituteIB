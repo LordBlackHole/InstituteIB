{
 "cells": [
  {
   "cell_type": "code",
   "execution_count": 41,
   "metadata": {},
   "outputs": [
    {
     "name": "stdout",
     "output_type": "stream",
     "text": [
      "TTTACG_CGT_TAGCT _TTACTACGTCT__CA\n"
     ]
    }
   ],
   "source": [
    "import numpy as np\n",
    "sA = \"TTTACGCGTTAGCT\"\n",
    "sB = \"TTACTACGTCTCA\"\n",
    "ms = np.zeros((4, 4))\n",
    "ms[0][0] = 5\n",
    "ms[0][1] = ms[1][0] = -2\n",
    "ms[0][2] = ms[2][0] = -1\n",
    "ms[0][3] = ms[3][0] = -1\n",
    "ms[1][1] = 7\n",
    "ms[1][2] = ms[2][1] = -1\n",
    "ms[1][3] = ms[3][1] = 3\n",
    "ms[2][2] = 7\n",
    "ms[2][3] = ms[3][2] = 0\n",
    "ms[3][3] = 6\n",
    "gpen,match,mpen = -1,1,-1\n",
    "sym = {\"A\" : 0, \"T\" : 1, \"C\" : 2, \"G\" : 3}\n",
    "import numpy as np\n",
    "def NW(sA, sB):\n",
    "    n = len(sA)\n",
    "    m = len(sB)\n",
    "    sc = np.zeros((m+1, n+1))\n",
    "    for i in range(0, m + 1):\n",
    "        sc[i][0] = gpen * i\n",
    "    for j in range(0, n + 1):\n",
    "        sc[0][j] = gpen * j\n",
    "    for i in range(1, m + 1):\n",
    "        for j in range(1, n + 1):\n",
    "            mis = int(sc[i - 1][j - 1] + ms[sym[sA[j-1]]][sym[sB[i-1]]])\n",
    "            d = sc[i - 1][j] + gpen\n",
    "            ins = sc[i][j - 1] + gpen\n",
    "            sc[i][j] = max(mis, d, ins)\n",
    "    alA,alB,i,j = \"\",\"\",m,n\n",
    "    while i*j > 0:\n",
    "        sc_cur,sc_diag,sc_up,sc_left = sc[i][j],sc[i-1][j-1],sc[i][j-1],sc[i-1][j]\n",
    "        if sc_cur == sc_diag + ms[sym[sA[j-1]]][sym[sB[i-1]]]:\n",
    "            alA += sA[j-1]\n",
    "            alB += sB[i-1]\n",
    "            i -= 1\n",
    "            j -= 1\n",
    "        elif sc_cur == sc_up + gpen:\n",
    "            alA += sA[j-1]\n",
    "            alB += '_'\n",
    "            j -= 1\n",
    "        elif sc_cur == sc_left + gpen:\n",
    "            alA += '_'\n",
    "            alB += sB[i-1]\n",
    "            i -= 1\n",
    "    while j > 0:\n",
    "        alA += sA[j-1]\n",
    "        alB += '_'\n",
    "        j -= 1\n",
    "    while i > 0:\n",
    "        alA += '_'\n",
    "        alB += sB[i-1]\n",
    "        i -= 1\n",
    "    alA = alA[::-1]\n",
    "    alB = alB[::-1]\n",
    "    return(alA, alB)\n",
    "nsA, nsB = NW(sA, sB)\n",
    "print(nsA + \" \" + nsB)"
   ]
  },
  {
   "cell_type": "code",
   "execution_count": 42,
   "metadata": {},
   "outputs": [
    {
     "name": "stdout",
     "output_type": "stream",
     "text": [
      "TTTACG_CGT_T_AGCT\n",
      "_TTACTACGTCTCA___\n"
     ]
    }
   ],
   "source": [
    "ms[0][0] = 100\n",
    "outA, outB = NW(sA, sB)\n",
    "print(outA + \"\\n\" + outB)"
   ]
  },
  {
   "cell_type": "code",
   "execution_count": null,
   "metadata": {},
   "outputs": [],
   "source": []
  }
 ],
 "metadata": {
  "kernelspec": {
   "display_name": "Python 3",
   "language": "python",
   "name": "python3"
  },
  "language_info": {
   "codemirror_mode": {
    "name": "ipython",
    "version": 3
   },
   "file_extension": ".py",
   "mimetype": "text/x-python",
   "name": "python",
   "nbconvert_exporter": "python",
   "pygments_lexer": "ipython3",
   "version": "3.7.8"
  }
 },
 "nbformat": 4,
 "nbformat_minor": 4
}
